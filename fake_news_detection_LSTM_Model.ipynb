{
  "cells": [
    {
      "cell_type": "code",
      "execution_count": 9,
      "metadata": {
        "colab": {
          "base_uri": "https://localhost:8080/"
        },
        "id": "Bqf-mIDSvs7H",
        "outputId": "d97f1ffe-8f5f-4dfe-b5a9-6dbee5767f05"
      },
      "outputs": [
        {
          "name": "stderr",
          "output_type": "stream",
          "text": [
            "[nltk_data] Downloading package stopwords to\n",
            "[nltk_data]     C:\\Users\\imsur\\AppData\\Roaming\\nltk_data...\n",
            "[nltk_data]   Unzipping corpora\\stopwords.zip.\n"
          ]
        },
        {
          "data": {
            "text/plain": [
              "True"
            ]
          },
          "execution_count": 9,
          "metadata": {},
          "output_type": "execute_result"
        }
      ],
      "source": [
        "import pandas as pd\n",
        "import numpy as np\n",
        "import itertools\n",
        "import seaborn as sns\n",
        "import nltk, re, string\n",
        "from string import punctuation\n",
        "from nltk.corpus import stopwords\n",
        "from sklearn import metrics\n",
        "import matplotlib.pyplot as plt\n",
        "# from wordcloud import WordCloud,STOPWORDS\n",
        "from sklearn.metrics import classification_report,confusion_matrix,accuracy_score,roc_auc_score\n",
        "from sklearn.model_selection import train_test_split\n",
        "from tensorflow.keras.models import Model  # Changed import\n",
        "from keras.layers import Dense, Embedding, Input,LSTM, Bidirectional, GlobalMaxPool1D, Dropout\n",
        "from tensorflow.keras.preprocessing.text import Tokenizer\n",
        "from tensorflow.keras.preprocessing.sequence import pad_sequences\n",
        "nltk.download('stopwords')"
      ]
    },
    {
      "cell_type": "code",
      "execution_count": 10,
      "metadata": {
        "id": "WZ4c07otv7X3"
      },
      "outputs": [],
      "source": [
        "# df = pd.read_csv('/content/drive/MyDrive/Colab Notebooks/fake_news.csv')\n",
        "df=pd.read_csv('fake_news.csv')"
      ]
    },
    {
      "cell_type": "code",
      "execution_count": 11,
      "metadata": {
        "colab": {
          "base_uri": "https://localhost:8080/",
          "height": 327
        },
        "id": "jLiRsJacwThf",
        "outputId": "290d2a2f-f292-43af-bf20-0b4146cfc1dc"
      },
      "outputs": [
        {
          "data": {
            "text/html": [
              "<div>\n",
              "<style scoped>\n",
              "    .dataframe tbody tr th:only-of-type {\n",
              "        vertical-align: middle;\n",
              "    }\n",
              "\n",
              "    .dataframe tbody tr th {\n",
              "        vertical-align: top;\n",
              "    }\n",
              "\n",
              "    .dataframe thead th {\n",
              "        text-align: right;\n",
              "    }\n",
              "</style>\n",
              "<table border=\"1\" class=\"dataframe\">\n",
              "  <thead>\n",
              "    <tr style=\"text-align: right;\">\n",
              "      <th></th>\n",
              "      <th>Unnamed: 0</th>\n",
              "      <th>title</th>\n",
              "      <th>text</th>\n",
              "      <th>label</th>\n",
              "    </tr>\n",
              "  </thead>\n",
              "  <tbody>\n",
              "    <tr>\n",
              "      <th>0</th>\n",
              "      <td>0</td>\n",
              "      <td>As U.S. budget fight looms, Republicans flip t...</td>\n",
              "      <td>WASHINGTON (Reuters) - The head of a conservat...</td>\n",
              "      <td>TRUE</td>\n",
              "    </tr>\n",
              "    <tr>\n",
              "      <th>1</th>\n",
              "      <td>1</td>\n",
              "      <td>U.S. military to accept transgender recruits o...</td>\n",
              "      <td>WASHINGTON (Reuters) - Transgender people will...</td>\n",
              "      <td>TRUE</td>\n",
              "    </tr>\n",
              "    <tr>\n",
              "      <th>2</th>\n",
              "      <td>2</td>\n",
              "      <td>Senior U.S. Republican senator: 'Let Mr. Muell...</td>\n",
              "      <td>WASHINGTON (Reuters) - The special counsel inv...</td>\n",
              "      <td>TRUE</td>\n",
              "    </tr>\n",
              "    <tr>\n",
              "      <th>3</th>\n",
              "      <td>3</td>\n",
              "      <td>FBI Russia probe helped by Australian diplomat...</td>\n",
              "      <td>WASHINGTON (Reuters) - Trump campaign adviser ...</td>\n",
              "      <td>TRUE</td>\n",
              "    </tr>\n",
              "    <tr>\n",
              "      <th>4</th>\n",
              "      <td>4</td>\n",
              "      <td>Trump wants Postal Service to charge 'much mor...</td>\n",
              "      <td>SEATTLE/WASHINGTON (Reuters) - President Donal...</td>\n",
              "      <td>TRUE</td>\n",
              "    </tr>\n",
              "  </tbody>\n",
              "</table>\n",
              "</div>"
            ],
            "text/plain": [
              "   Unnamed: 0                                              title  \\\n",
              "0           0  As U.S. budget fight looms, Republicans flip t...   \n",
              "1           1  U.S. military to accept transgender recruits o...   \n",
              "2           2  Senior U.S. Republican senator: 'Let Mr. Muell...   \n",
              "3           3  FBI Russia probe helped by Australian diplomat...   \n",
              "4           4  Trump wants Postal Service to charge 'much mor...   \n",
              "\n",
              "                                                text label  \n",
              "0  WASHINGTON (Reuters) - The head of a conservat...  TRUE  \n",
              "1  WASHINGTON (Reuters) - Transgender people will...  TRUE  \n",
              "2  WASHINGTON (Reuters) - The special counsel inv...  TRUE  \n",
              "3  WASHINGTON (Reuters) - Trump campaign adviser ...  TRUE  \n",
              "4  SEATTLE/WASHINGTON (Reuters) - President Donal...  TRUE  "
            ]
          },
          "execution_count": 11,
          "metadata": {},
          "output_type": "execute_result"
        }
      ],
      "source": [
        "df.head()"
      ]
    },
    {
      "cell_type": "code",
      "execution_count": 12,
      "metadata": {
        "colab": {
          "base_uri": "https://localhost:8080/",
          "height": 327
        },
        "id": "0yv3BjGuxfBC",
        "outputId": "03b650a0-986a-4ee0-ea13-54807819337c"
      },
      "outputs": [
        {
          "data": {
            "text/html": [
              "<div>\n",
              "<style scoped>\n",
              "    .dataframe tbody tr th:only-of-type {\n",
              "        vertical-align: middle;\n",
              "    }\n",
              "\n",
              "    .dataframe tbody tr th {\n",
              "        vertical-align: top;\n",
              "    }\n",
              "\n",
              "    .dataframe thead th {\n",
              "        text-align: right;\n",
              "    }\n",
              "</style>\n",
              "<table border=\"1\" class=\"dataframe\">\n",
              "  <thead>\n",
              "    <tr style=\"text-align: right;\">\n",
              "      <th></th>\n",
              "      <th>Unnamed: 0</th>\n",
              "      <th>title</th>\n",
              "      <th>text</th>\n",
              "      <th>label</th>\n",
              "    </tr>\n",
              "  </thead>\n",
              "  <tbody>\n",
              "    <tr>\n",
              "      <th>37224</th>\n",
              "      <td>37224</td>\n",
              "      <td>(VIDEO) LAWYER FOR “Patriot” Gyrocopter Mailma...</td>\n",
              "      <td>I m Doug Hughes, I m 61 years old and I m a m...</td>\n",
              "      <td>FAKE</td>\n",
              "    </tr>\n",
              "    <tr>\n",
              "      <th>2682</th>\n",
              "      <td>2682</td>\n",
              "      <td>House to write tax reform bill this fall: Hous...</td>\n",
              "      <td>WASHINGTON (Reuters) - The Republican-controll...</td>\n",
              "      <td>TRUE</td>\n",
              "    </tr>\n",
              "    <tr>\n",
              "      <th>21344</th>\n",
              "      <td>21344</td>\n",
              "      <td>Samsung leader Jay Y. Lee given five-year jail...</td>\n",
              "      <td>SEOUL (Reuters) - The billionaire head of Sout...</td>\n",
              "      <td>TRUE</td>\n",
              "    </tr>\n",
              "    <tr>\n",
              "      <th>16774</th>\n",
              "      <td>16774</td>\n",
              "      <td>Defense chief Mattis in Asia, will discuss Nor...</td>\n",
              "      <td>CLARK FREEPORT ZONE, Philippines (Reuters) - U...</td>\n",
              "      <td>TRUE</td>\n",
              "    </tr>\n",
              "    <tr>\n",
              "      <th>7840</th>\n",
              "      <td>7840</td>\n",
              "      <td>Trump trails Clinton by 8 points after tape sc...</td>\n",
              "      <td>NEW YORK (Reuters) - Donald Trump has fallen f...</td>\n",
              "      <td>TRUE</td>\n",
              "    </tr>\n",
              "  </tbody>\n",
              "</table>\n",
              "</div>"
            ],
            "text/plain": [
              "       Unnamed: 0                                              title  \\\n",
              "37224       37224  (VIDEO) LAWYER FOR “Patriot” Gyrocopter Mailma...   \n",
              "2682         2682  House to write tax reform bill this fall: Hous...   \n",
              "21344       21344  Samsung leader Jay Y. Lee given five-year jail...   \n",
              "16774       16774  Defense chief Mattis in Asia, will discuss Nor...   \n",
              "7840         7840  Trump trails Clinton by 8 points after tape sc...   \n",
              "\n",
              "                                                    text label  \n",
              "37224   I m Doug Hughes, I m 61 years old and I m a m...  FAKE  \n",
              "2682   WASHINGTON (Reuters) - The Republican-controll...  TRUE  \n",
              "21344  SEOUL (Reuters) - The billionaire head of Sout...  TRUE  \n",
              "16774  CLARK FREEPORT ZONE, Philippines (Reuters) - U...  TRUE  \n",
              "7840   NEW YORK (Reuters) - Donald Trump has fallen f...  TRUE  "
            ]
          },
          "execution_count": 12,
          "metadata": {},
          "output_type": "execute_result"
        }
      ],
      "source": [
        "df=df.reindex(np.random.permutation(df.index))\n",
        "df.head()"
      ]
    },
    {
      "cell_type": "code",
      "execution_count": 13,
      "metadata": {
        "id": "eGJxUQ04x3XU"
      },
      "outputs": [],
      "source": [
        "# removing news source info from text\n",
        "def extract_txt(text):\n",
        "    regex = re.search(r\"(?<=\\(Reuters\\)\\s\\-\\s).*\",text)\n",
        "    if regex:\n",
        "        return regex.group(0)\n",
        "    return text\n",
        "df['text_processed'] = df['text'].apply(extract_txt)"
      ]
    },
    {
      "cell_type": "code",
      "execution_count": 14,
      "metadata": {
        "colab": {
          "base_uri": "https://localhost:8080/",
          "height": 206
        },
        "id": "PHffSFMmx_VQ",
        "outputId": "cbd2790b-6589-46b6-fab7-8997576f5626"
      },
      "outputs": [
        {
          "data": {
            "text/html": [
              "<div>\n",
              "<style scoped>\n",
              "    .dataframe tbody tr th:only-of-type {\n",
              "        vertical-align: middle;\n",
              "    }\n",
              "\n",
              "    .dataframe tbody tr th {\n",
              "        vertical-align: top;\n",
              "    }\n",
              "\n",
              "    .dataframe thead th {\n",
              "        text-align: right;\n",
              "    }\n",
              "</style>\n",
              "<table border=\"1\" class=\"dataframe\">\n",
              "  <thead>\n",
              "    <tr style=\"text-align: right;\">\n",
              "      <th></th>\n",
              "      <th>title</th>\n",
              "      <th>text</th>\n",
              "      <th>label</th>\n",
              "      <th>text_processed</th>\n",
              "    </tr>\n",
              "  </thead>\n",
              "  <tbody>\n",
              "    <tr>\n",
              "      <th>37224</th>\n",
              "      <td>(VIDEO) LAWYER FOR “Patriot” Gyrocopter Mailma...</td>\n",
              "      <td>I m Doug Hughes, I m 61 years old and I m a m...</td>\n",
              "      <td>1</td>\n",
              "      <td>I m Doug Hughes, I m 61 years old and I m a m...</td>\n",
              "    </tr>\n",
              "    <tr>\n",
              "      <th>2682</th>\n",
              "      <td>House to write tax reform bill this fall: Hous...</td>\n",
              "      <td>WASHINGTON (Reuters) - The Republican-controll...</td>\n",
              "      <td>0</td>\n",
              "      <td>The Republican-controlled U.S. House of Repres...</td>\n",
              "    </tr>\n",
              "    <tr>\n",
              "      <th>21344</th>\n",
              "      <td>Samsung leader Jay Y. Lee given five-year jail...</td>\n",
              "      <td>SEOUL (Reuters) - The billionaire head of Sout...</td>\n",
              "      <td>0</td>\n",
              "      <td>The billionaire head of South Korea s Samsung ...</td>\n",
              "    </tr>\n",
              "    <tr>\n",
              "      <th>16774</th>\n",
              "      <td>Defense chief Mattis in Asia, will discuss Nor...</td>\n",
              "      <td>CLARK FREEPORT ZONE, Philippines (Reuters) - U...</td>\n",
              "      <td>0</td>\n",
              "      <td>U.S. Defense Secretary Jim Mattis said he woul...</td>\n",
              "    </tr>\n",
              "    <tr>\n",
              "      <th>7840</th>\n",
              "      <td>Trump trails Clinton by 8 points after tape sc...</td>\n",
              "      <td>NEW YORK (Reuters) - Donald Trump has fallen f...</td>\n",
              "      <td>0</td>\n",
              "      <td>Donald Trump has fallen further behind Hillary...</td>\n",
              "    </tr>\n",
              "  </tbody>\n",
              "</table>\n",
              "</div>"
            ],
            "text/plain": [
              "                                                   title  \\\n",
              "37224  (VIDEO) LAWYER FOR “Patriot” Gyrocopter Mailma...   \n",
              "2682   House to write tax reform bill this fall: Hous...   \n",
              "21344  Samsung leader Jay Y. Lee given five-year jail...   \n",
              "16774  Defense chief Mattis in Asia, will discuss Nor...   \n",
              "7840   Trump trails Clinton by 8 points after tape sc...   \n",
              "\n",
              "                                                    text  label  \\\n",
              "37224   I m Doug Hughes, I m 61 years old and I m a m...      1   \n",
              "2682   WASHINGTON (Reuters) - The Republican-controll...      0   \n",
              "21344  SEOUL (Reuters) - The billionaire head of Sout...      0   \n",
              "16774  CLARK FREEPORT ZONE, Philippines (Reuters) - U...      0   \n",
              "7840   NEW YORK (Reuters) - Donald Trump has fallen f...      0   \n",
              "\n",
              "                                          text_processed  \n",
              "37224   I m Doug Hughes, I m 61 years old and I m a m...  \n",
              "2682   The Republican-controlled U.S. House of Repres...  \n",
              "21344  The billionaire head of South Korea s Samsung ...  \n",
              "16774  U.S. Defense Secretary Jim Mattis said he woul...  \n",
              "7840   Donald Trump has fallen further behind Hillary...  "
            ]
          },
          "execution_count": 14,
          "metadata": {},
          "output_type": "execute_result"
        }
      ],
      "source": [
        "df.drop(['Unnamed: 0'],axis=1, inplace=True)\n",
        "df[\"label\"] = df.label.apply(lambda  x:0 if x=='TRUE' else 1)\n",
        "df.head()"
      ]
    },
    {
      "cell_type": "code",
      "execution_count": 15,
      "metadata": {
        "colab": {
          "base_uri": "https://localhost:8080/",
          "height": 674
        },
        "id": "CoOJyovUyH-K",
        "outputId": "f109268a-5caa-46a5-b5b3-d917f3ca2550"
      },
      "outputs": [
        {
          "data": {
            "text/html": [
              "<div>\n",
              "<style scoped>\n",
              "    .dataframe tbody tr th:only-of-type {\n",
              "        vertical-align: middle;\n",
              "    }\n",
              "\n",
              "    .dataframe tbody tr th {\n",
              "        vertical-align: top;\n",
              "    }\n",
              "\n",
              "    .dataframe thead th {\n",
              "        text-align: right;\n",
              "    }\n",
              "</style>\n",
              "<table border=\"1\" class=\"dataframe\">\n",
              "  <thead>\n",
              "    <tr style=\"text-align: right;\">\n",
              "      <th></th>\n",
              "      <th>title</th>\n",
              "      <th>text</th>\n",
              "      <th>label</th>\n",
              "      <th>text_processed</th>\n",
              "      <th>final_news</th>\n",
              "    </tr>\n",
              "  </thead>\n",
              "  <tbody>\n",
              "    <tr>\n",
              "      <th>37224</th>\n",
              "      <td>(VIDEO) LAWYER FOR “Patriot” Gyrocopter Mailma...</td>\n",
              "      <td>I m Doug Hughes, I m 61 years old and I m a m...</td>\n",
              "      <td>1</td>\n",
              "      <td>I m Doug Hughes, I m 61 years old and I m a m...</td>\n",
              "      <td>(VIDEO) LAWYER FOR “Patriot” Gyrocopter Mailma...</td>\n",
              "    </tr>\n",
              "    <tr>\n",
              "      <th>2682</th>\n",
              "      <td>House to write tax reform bill this fall: Hous...</td>\n",
              "      <td>WASHINGTON (Reuters) - The Republican-controll...</td>\n",
              "      <td>0</td>\n",
              "      <td>The Republican-controlled U.S. House of Repres...</td>\n",
              "      <td>House to write tax reform bill this fall: Hous...</td>\n",
              "    </tr>\n",
              "    <tr>\n",
              "      <th>21344</th>\n",
              "      <td>Samsung leader Jay Y. Lee given five-year jail...</td>\n",
              "      <td>SEOUL (Reuters) - The billionaire head of Sout...</td>\n",
              "      <td>0</td>\n",
              "      <td>The billionaire head of South Korea s Samsung ...</td>\n",
              "      <td>Samsung leader Jay Y. Lee given five-year jail...</td>\n",
              "    </tr>\n",
              "    <tr>\n",
              "      <th>16774</th>\n",
              "      <td>Defense chief Mattis in Asia, will discuss Nor...</td>\n",
              "      <td>CLARK FREEPORT ZONE, Philippines (Reuters) - U...</td>\n",
              "      <td>0</td>\n",
              "      <td>U.S. Defense Secretary Jim Mattis said he woul...</td>\n",
              "      <td>Defense chief Mattis in Asia, will discuss Nor...</td>\n",
              "    </tr>\n",
              "    <tr>\n",
              "      <th>7840</th>\n",
              "      <td>Trump trails Clinton by 8 points after tape sc...</td>\n",
              "      <td>NEW YORK (Reuters) - Donald Trump has fallen f...</td>\n",
              "      <td>0</td>\n",
              "      <td>Donald Trump has fallen further behind Hillary...</td>\n",
              "      <td>Trump trails Clinton by 8 points after tape sc...</td>\n",
              "    </tr>\n",
              "  </tbody>\n",
              "</table>\n",
              "</div>"
            ],
            "text/plain": [
              "                                                   title  \\\n",
              "37224  (VIDEO) LAWYER FOR “Patriot” Gyrocopter Mailma...   \n",
              "2682   House to write tax reform bill this fall: Hous...   \n",
              "21344  Samsung leader Jay Y. Lee given five-year jail...   \n",
              "16774  Defense chief Mattis in Asia, will discuss Nor...   \n",
              "7840   Trump trails Clinton by 8 points after tape sc...   \n",
              "\n",
              "                                                    text  label  \\\n",
              "37224   I m Doug Hughes, I m 61 years old and I m a m...      1   \n",
              "2682   WASHINGTON (Reuters) - The Republican-controll...      0   \n",
              "21344  SEOUL (Reuters) - The billionaire head of Sout...      0   \n",
              "16774  CLARK FREEPORT ZONE, Philippines (Reuters) - U...      0   \n",
              "7840   NEW YORK (Reuters) - Donald Trump has fallen f...      0   \n",
              "\n",
              "                                          text_processed  \\\n",
              "37224   I m Doug Hughes, I m 61 years old and I m a m...   \n",
              "2682   The Republican-controlled U.S. House of Repres...   \n",
              "21344  The billionaire head of South Korea s Samsung ...   \n",
              "16774  U.S. Defense Secretary Jim Mattis said he woul...   \n",
              "7840   Donald Trump has fallen further behind Hillary...   \n",
              "\n",
              "                                              final_news  \n",
              "37224  (VIDEO) LAWYER FOR “Patriot” Gyrocopter Mailma...  \n",
              "2682   House to write tax reform bill this fall: Hous...  \n",
              "21344  Samsung leader Jay Y. Lee given five-year jail...  \n",
              "16774  Defense chief Mattis in Asia, will discuss Nor...  \n",
              "7840   Trump trails Clinton by 8 points after tape sc...  "
            ]
          },
          "execution_count": 15,
          "metadata": {},
          "output_type": "execute_result"
        }
      ],
      "source": [
        "#combining text_processed and title for creating full news article with headline\n",
        "df['final_news'] = df['title'] + \" \" + df['text_processed']\n",
        "df.head()"
      ]
    },
    {
      "cell_type": "code",
      "execution_count": 16,
      "metadata": {
        "colab": {
          "base_uri": "https://localhost:8080/",
          "height": 241
        },
        "id": "GBiEiLxAzZtF",
        "outputId": "6bd64c8d-1ee1-4406-9692-f1bf84a54a5a"
      },
      "outputs": [
        {
          "data": {
            "text/html": [
              "<div>\n",
              "<style scoped>\n",
              "    .dataframe tbody tr th:only-of-type {\n",
              "        vertical-align: middle;\n",
              "    }\n",
              "\n",
              "    .dataframe tbody tr th {\n",
              "        vertical-align: top;\n",
              "    }\n",
              "\n",
              "    .dataframe thead th {\n",
              "        text-align: right;\n",
              "    }\n",
              "</style>\n",
              "<table border=\"1\" class=\"dataframe\">\n",
              "  <thead>\n",
              "    <tr style=\"text-align: right;\">\n",
              "      <th></th>\n",
              "      <th>label</th>\n",
              "      <th>final_news</th>\n",
              "    </tr>\n",
              "  </thead>\n",
              "  <tbody>\n",
              "    <tr>\n",
              "      <th>37224</th>\n",
              "      <td>1</td>\n",
              "      <td>(VIDEO) LAWYER FOR “Patriot” Gyrocopter Mailma...</td>\n",
              "    </tr>\n",
              "    <tr>\n",
              "      <th>2682</th>\n",
              "      <td>0</td>\n",
              "      <td>House to write tax reform bill this fall: Hous...</td>\n",
              "    </tr>\n",
              "    <tr>\n",
              "      <th>21344</th>\n",
              "      <td>0</td>\n",
              "      <td>Samsung leader Jay Y. Lee given five-year jail...</td>\n",
              "    </tr>\n",
              "    <tr>\n",
              "      <th>16774</th>\n",
              "      <td>0</td>\n",
              "      <td>Defense chief Mattis in Asia, will discuss Nor...</td>\n",
              "    </tr>\n",
              "    <tr>\n",
              "      <th>7840</th>\n",
              "      <td>0</td>\n",
              "      <td>Trump trails Clinton by 8 points after tape sc...</td>\n",
              "    </tr>\n",
              "  </tbody>\n",
              "</table>\n",
              "</div>"
            ],
            "text/plain": [
              "       label                                         final_news\n",
              "37224      1  (VIDEO) LAWYER FOR “Patriot” Gyrocopter Mailma...\n",
              "2682       0  House to write tax reform bill this fall: Hous...\n",
              "21344      0  Samsung leader Jay Y. Lee given five-year jail...\n",
              "16774      0  Defense chief Mattis in Asia, will discuss Nor...\n",
              "7840       0  Trump trails Clinton by 8 points after tape sc..."
            ]
          },
          "execution_count": 16,
          "metadata": {},
          "output_type": "execute_result"
        }
      ],
      "source": [
        "# now we can delete extra columns\n",
        "cols_del =['title','text','text_processed']\n",
        "df = df.drop(cols_del,axis=1)\n",
        "\n",
        "df.head()\n"
      ]
    },
    {
      "cell_type": "code",
      "execution_count": 17,
      "metadata": {
        "id": "6OI_32t4zrUh"
      },
      "outputs": [],
      "source": [
        "stop = stopwords.words('english')\n",
        "\n",
        "def cleanText(txt):\n",
        "  # lowercaing\n",
        "    txt = txt.lower()\n",
        "  # removing stopwords\n",
        "    txt = ' '.join([word for word in txt.split() if word not in (stop)])\n",
        "  # removing non-alphabetic characters\n",
        "    txt = re.sub('[^a-z]',' ',txt)\n",
        "    return txt"
      ]
    },
    {
      "cell_type": "code",
      "execution_count": 18,
      "metadata": {
        "colab": {
          "base_uri": "https://localhost:8080/",
          "height": 206
        },
        "id": "cGXlRhlc0Aaf",
        "outputId": "834b9d78-1a91-4aae-cce9-57d389970399"
      },
      "outputs": [
        {
          "data": {
            "text/html": [
              "<div>\n",
              "<style scoped>\n",
              "    .dataframe tbody tr th:only-of-type {\n",
              "        vertical-align: middle;\n",
              "    }\n",
              "\n",
              "    .dataframe tbody tr th {\n",
              "        vertical-align: top;\n",
              "    }\n",
              "\n",
              "    .dataframe thead th {\n",
              "        text-align: right;\n",
              "    }\n",
              "</style>\n",
              "<table border=\"1\" class=\"dataframe\">\n",
              "  <thead>\n",
              "    <tr style=\"text-align: right;\">\n",
              "      <th></th>\n",
              "      <th>label</th>\n",
              "      <th>final_news</th>\n",
              "    </tr>\n",
              "  </thead>\n",
              "  <tbody>\n",
              "    <tr>\n",
              "      <th>37224</th>\n",
              "      <td>1</td>\n",
              "      <td>video  lawyer  patriot  gyrocopter mailman la...</td>\n",
              "    </tr>\n",
              "    <tr>\n",
              "      <th>2682</th>\n",
              "      <td>0</td>\n",
              "      <td>house write tax reform bill fall  house speake...</td>\n",
              "    </tr>\n",
              "    <tr>\n",
              "      <th>21344</th>\n",
              "      <td>0</td>\n",
              "      <td>samsung leader jay y  lee given five year jail...</td>\n",
              "    </tr>\n",
              "    <tr>\n",
              "      <th>16774</th>\n",
              "      <td>0</td>\n",
              "      <td>defense chief mattis asia  discuss north korea...</td>\n",
              "    </tr>\n",
              "    <tr>\n",
              "      <th>7840</th>\n",
              "      <td>0</td>\n",
              "      <td>trump trails clinton   points tape scandal  de...</td>\n",
              "    </tr>\n",
              "  </tbody>\n",
              "</table>\n",
              "</div>"
            ],
            "text/plain": [
              "       label                                         final_news\n",
              "37224      1   video  lawyer  patriot  gyrocopter mailman la...\n",
              "2682       0  house write tax reform bill fall  house speake...\n",
              "21344      0  samsung leader jay y  lee given five year jail...\n",
              "16774      0  defense chief mattis asia  discuss north korea...\n",
              "7840       0  trump trails clinton   points tape scandal  de..."
            ]
          },
          "execution_count": 18,
          "metadata": {},
          "output_type": "execute_result"
        }
      ],
      "source": [
        "#applying text cleaning function to clean final_news\n",
        "df['final_news'] = df['final_news'].apply(cleanText)\n",
        "df.head()"
      ]
    },
    {
      "cell_type": "code",
      "execution_count": 19,
      "metadata": {
        "id": "C4iiKFsK0yQ9"
      },
      "outputs": [],
      "source": [
        "# path = '/content/drive/MyDrive'\n",
        "path = 'C:/Users/imsur/OneDrive/Desktop'\n",
        "\n",
        "# EMBEDDING_FILE=f'{path}/Colab Notebooks/glove.6B.50d.txt'\n",
        "EMBEDDING_FILE=f'{path}/fakenews/glove.6B.50d.txt'\n",
        "\n",
        "# configuration setting\n",
        "MAX_SEQUENCE_LENGTH = 100\n",
        "MAX_VOCAB_SIZE = 20000\n",
        "EMBEDDING_DIM = 50\n",
        "VALIDATION_SPLIT = 0.2\n",
        "BATCH_SIZE = 32\n",
        "EPOCHS = 10"
      ]
    },
    {
      "cell_type": "code",
      "execution_count": 20,
      "metadata": {
        "id": "u7ZUbpjP413q"
      },
      "outputs": [],
      "source": [
        "y = df['label'].values\n",
        "X = df.drop(['label'],axis=1)"
      ]
    },
    {
      "cell_type": "code",
      "execution_count": 21,
      "metadata": {
        "colab": {
          "base_uri": "https://localhost:8080/"
        },
        "id": "OBEf6LQi5CXo",
        "outputId": "7b424dcf-d6e1-4719-8341-6a3bc007a1c9"
      },
      "outputs": [
        {
          "data": {
            "text/plain": [
              "(44898,)"
            ]
          },
          "execution_count": 21,
          "metadata": {},
          "output_type": "execute_result"
        }
      ],
      "source": [
        "y.shape"
      ]
    },
    {
      "cell_type": "code",
      "execution_count": 23,
      "metadata": {
        "colab": {
          "base_uri": "https://localhost:8080/"
        },
        "id": "-eTm59S65FUR",
        "outputId": "c7debeee-997a-4d18-8b1d-2f7fff093fb2"
      },
      "outputs": [
        {
          "name": "stdout",
          "output_type": "stream",
          "text": [
            "Loading word vectors...\n",
            "Found 400000 word vectors.\n"
          ]
        }
      ],
      "source": [
        "print('Loading word vectors...')\n",
        "word2vec = {}\n",
        "with open(EMBEDDING_FILE, encoding='utf-8') as f:\n",
        "  for line in f:\n",
        "    values = line.split()\n",
        "    word = values[0]\n",
        "    vec = np.asarray(values[1:], dtype='float32')\n",
        "    word2vec[word] = vec\n",
        "print('Found %s word vectors.' % len(word2vec))\n"
      ]
    },
    {
      "cell_type": "code",
      "execution_count": 24,
      "metadata": {
        "colab": {
          "base_uri": "https://localhost:8080/"
        },
        "id": "8P_RMtxv8VJq",
        "outputId": "95355b43-40de-479d-85ac-e6838e369063"
      },
      "outputs": [
        {
          "name": "stdout",
          "output_type": "stream",
          "text": [
            "Shape of data tensor: (44898, 100)\n"
          ]
        }
      ],
      "source": [
        "# convert the sentences (strings) into integers\n",
        "tokenizer = Tokenizer(num_words=MAX_VOCAB_SIZE)\n",
        "tokenizer.fit_on_texts(list(X['final_news']))\n",
        "X = tokenizer.texts_to_sequences(list(X['final_news']))\n",
        "\n",
        "# pad sequences so that we get a N x T matrix\n",
        "X = pad_sequences(X, maxlen=MAX_SEQUENCE_LENGTH)\n",
        "print('Shape of data tensor:', X.shape)"
      ]
    },
    {
      "cell_type": "code",
      "execution_count": 25,
      "metadata": {
        "colab": {
          "base_uri": "https://localhost:8080/"
        },
        "id": "kaMOwQv89Jcg",
        "outputId": "316964c8-9a0c-4f18-a0d5-5dfeec687dd2"
      },
      "outputs": [
        {
          "name": "stdout",
          "output_type": "stream",
          "text": [
            "Found 115831 unique tokens.\n"
          ]
        }
      ],
      "source": [
        "# get word -> integer mapping\n",
        "word2idx = tokenizer.word_index\n",
        "print('Found %s unique tokens.' % len(word2idx))"
      ]
    },
    {
      "cell_type": "code",
      "execution_count": 26,
      "metadata": {
        "colab": {
          "base_uri": "https://localhost:8080/"
        },
        "id": "bBTm2zfM9ZyL",
        "outputId": "7910597e-35b9-47aa-8eb1-6f5518e79f89"
      },
      "outputs": [
        {
          "name": "stdout",
          "output_type": "stream",
          "text": [
            "Filling pre-trained embeddings...\n"
          ]
        }
      ],
      "source": [
        "# prepare embedding matrix\n",
        "print('Filling pre-trained embeddings...')\n",
        "num_words = min(MAX_VOCAB_SIZE, len(word2idx) + 1)\n",
        "embedding_matrix = np.zeros((num_words, EMBEDDING_DIM))\n",
        "for word, i in word2idx.items():\n",
        "  if i < MAX_VOCAB_SIZE:\n",
        "    embedding_vector = word2vec.get(word)\n",
        "    if embedding_vector is not None:\n",
        "      # words not found in embedding index will be all zeros.\n",
        "      embedding_matrix[i] = embedding_vector"
      ]
    },
    {
      "cell_type": "code",
      "execution_count": 27,
      "metadata": {
        "id": "UlVECTzH9rJX"
      },
      "outputs": [],
      "source": [
        "# load pre-trained word embeddings into an Embedding layer\n",
        "# note that we set trainable = False so as to keep the embeddings fixed\n",
        "embedding_layer = Embedding(\n",
        "    num_words,\n",
        "    EMBEDDING_DIM,\n",
        "    weights=[embedding_matrix],\n",
        "    trainable=False\n",
        ")"
      ]
    },
    {
      "cell_type": "code",
      "execution_count": 28,
      "metadata": {
        "colab": {
          "base_uri": "https://localhost:8080/",
          "height": 338
        },
        "id": "OU2dQhmt-T4b",
        "outputId": "f9c0ad60-99c6-4696-f37b-3b3ce118b54e"
      },
      "outputs": [
        {
          "name": "stdout",
          "output_type": "stream",
          "text": [
            "Building model...\n"
          ]
        },
        {
          "data": {
            "text/html": [
              "<pre style=\"white-space:pre;overflow-x:auto;line-height:normal;font-family:Menlo,'DejaVu Sans Mono',consolas,'Courier New',monospace\"><span style=\"font-weight: bold\">Model: \"functional\"</span>\n",
              "</pre>\n"
            ],
            "text/plain": [
              "\u001b[1mModel: \"functional\"\u001b[0m\n"
            ]
          },
          "metadata": {},
          "output_type": "display_data"
        },
        {
          "data": {
            "text/html": [
              "<pre style=\"white-space:pre;overflow-x:auto;line-height:normal;font-family:Menlo,'DejaVu Sans Mono',consolas,'Courier New',monospace\">┏━━━━━━━━━━━━━━━━━━━━━━━━━━━━━━━━━┳━━━━━━━━━━━━━━━━━━━━━━━━┳━━━━━━━━━━━━━━━┓\n",
              "┃<span style=\"font-weight: bold\"> Layer (type)                    </span>┃<span style=\"font-weight: bold\"> Output Shape           </span>┃<span style=\"font-weight: bold\">       Param # </span>┃\n",
              "┡━━━━━━━━━━━━━━━━━━━━━━━━━━━━━━━━━╇━━━━━━━━━━━━━━━━━━━━━━━━╇━━━━━━━━━━━━━━━┩\n",
              "│ input_layer (<span style=\"color: #0087ff; text-decoration-color: #0087ff\">InputLayer</span>)        │ (<span style=\"color: #00d7ff; text-decoration-color: #00d7ff\">None</span>, <span style=\"color: #00af00; text-decoration-color: #00af00\">100</span>)            │             <span style=\"color: #00af00; text-decoration-color: #00af00\">0</span> │\n",
              "├─────────────────────────────────┼────────────────────────┼───────────────┤\n",
              "│ embedding (<span style=\"color: #0087ff; text-decoration-color: #0087ff\">Embedding</span>)           │ (<span style=\"color: #00d7ff; text-decoration-color: #00d7ff\">None</span>, <span style=\"color: #00af00; text-decoration-color: #00af00\">100</span>, <span style=\"color: #00af00; text-decoration-color: #00af00\">50</span>)        │     <span style=\"color: #00af00; text-decoration-color: #00af00\">1,000,000</span> │\n",
              "├─────────────────────────────────┼────────────────────────┼───────────────┤\n",
              "│ bidirectional (<span style=\"color: #0087ff; text-decoration-color: #0087ff\">Bidirectional</span>)   │ (<span style=\"color: #00d7ff; text-decoration-color: #00d7ff\">None</span>, <span style=\"color: #00af00; text-decoration-color: #00af00\">100</span>, <span style=\"color: #00af00; text-decoration-color: #00af00\">30</span>)        │         <span style=\"color: #00af00; text-decoration-color: #00af00\">7,920</span> │\n",
              "├─────────────────────────────────┼────────────────────────┼───────────────┤\n",
              "│ global_max_pooling1d            │ (<span style=\"color: #00d7ff; text-decoration-color: #00d7ff\">None</span>, <span style=\"color: #00af00; text-decoration-color: #00af00\">30</span>)             │             <span style=\"color: #00af00; text-decoration-color: #00af00\">0</span> │\n",
              "│ (<span style=\"color: #0087ff; text-decoration-color: #0087ff\">GlobalMaxPooling1D</span>)            │                        │               │\n",
              "├─────────────────────────────────┼────────────────────────┼───────────────┤\n",
              "│ dense (<span style=\"color: #0087ff; text-decoration-color: #0087ff\">Dense</span>)                   │ (<span style=\"color: #00d7ff; text-decoration-color: #00d7ff\">None</span>, <span style=\"color: #00af00; text-decoration-color: #00af00\">1</span>)              │            <span style=\"color: #00af00; text-decoration-color: #00af00\">31</span> │\n",
              "└─────────────────────────────────┴────────────────────────┴───────────────┘\n",
              "</pre>\n"
            ],
            "text/plain": [
              "┏━━━━━━━━━━━━━━━━━━━━━━━━━━━━━━━━━┳━━━━━━━━━━━━━━━━━━━━━━━━┳━━━━━━━━━━━━━━━┓\n",
              "┃\u001b[1m \u001b[0m\u001b[1mLayer (type)                   \u001b[0m\u001b[1m \u001b[0m┃\u001b[1m \u001b[0m\u001b[1mOutput Shape          \u001b[0m\u001b[1m \u001b[0m┃\u001b[1m \u001b[0m\u001b[1m      Param #\u001b[0m\u001b[1m \u001b[0m┃\n",
              "┡━━━━━━━━━━━━━━━━━━━━━━━━━━━━━━━━━╇━━━━━━━━━━━━━━━━━━━━━━━━╇━━━━━━━━━━━━━━━┩\n",
              "│ input_layer (\u001b[38;5;33mInputLayer\u001b[0m)        │ (\u001b[38;5;45mNone\u001b[0m, \u001b[38;5;34m100\u001b[0m)            │             \u001b[38;5;34m0\u001b[0m │\n",
              "├─────────────────────────────────┼────────────────────────┼───────────────┤\n",
              "│ embedding (\u001b[38;5;33mEmbedding\u001b[0m)           │ (\u001b[38;5;45mNone\u001b[0m, \u001b[38;5;34m100\u001b[0m, \u001b[38;5;34m50\u001b[0m)        │     \u001b[38;5;34m1,000,000\u001b[0m │\n",
              "├─────────────────────────────────┼────────────────────────┼───────────────┤\n",
              "│ bidirectional (\u001b[38;5;33mBidirectional\u001b[0m)   │ (\u001b[38;5;45mNone\u001b[0m, \u001b[38;5;34m100\u001b[0m, \u001b[38;5;34m30\u001b[0m)        │         \u001b[38;5;34m7,920\u001b[0m │\n",
              "├─────────────────────────────────┼────────────────────────┼───────────────┤\n",
              "│ global_max_pooling1d            │ (\u001b[38;5;45mNone\u001b[0m, \u001b[38;5;34m30\u001b[0m)             │             \u001b[38;5;34m0\u001b[0m │\n",
              "│ (\u001b[38;5;33mGlobalMaxPooling1D\u001b[0m)            │                        │               │\n",
              "├─────────────────────────────────┼────────────────────────┼───────────────┤\n",
              "│ dense (\u001b[38;5;33mDense\u001b[0m)                   │ (\u001b[38;5;45mNone\u001b[0m, \u001b[38;5;34m1\u001b[0m)              │            \u001b[38;5;34m31\u001b[0m │\n",
              "└─────────────────────────────────┴────────────────────────┴───────────────┘\n"
            ]
          },
          "metadata": {},
          "output_type": "display_data"
        },
        {
          "data": {
            "text/html": [
              "<pre style=\"white-space:pre;overflow-x:auto;line-height:normal;font-family:Menlo,'DejaVu Sans Mono',consolas,'Courier New',monospace\"><span style=\"font-weight: bold\"> Total params: </span><span style=\"color: #00af00; text-decoration-color: #00af00\">1,007,951</span> (3.85 MB)\n",
              "</pre>\n"
            ],
            "text/plain": [
              "\u001b[1m Total params: \u001b[0m\u001b[38;5;34m1,007,951\u001b[0m (3.85 MB)\n"
            ]
          },
          "metadata": {},
          "output_type": "display_data"
        },
        {
          "data": {
            "text/html": [
              "<pre style=\"white-space:pre;overflow-x:auto;line-height:normal;font-family:Menlo,'DejaVu Sans Mono',consolas,'Courier New',monospace\"><span style=\"font-weight: bold\"> Trainable params: </span><span style=\"color: #00af00; text-decoration-color: #00af00\">7,951</span> (31.06 KB)\n",
              "</pre>\n"
            ],
            "text/plain": [
              "\u001b[1m Trainable params: \u001b[0m\u001b[38;5;34m7,951\u001b[0m (31.06 KB)\n"
            ]
          },
          "metadata": {},
          "output_type": "display_data"
        },
        {
          "data": {
            "text/html": [
              "<pre style=\"white-space:pre;overflow-x:auto;line-height:normal;font-family:Menlo,'DejaVu Sans Mono',consolas,'Courier New',monospace\"><span style=\"font-weight: bold\"> Non-trainable params: </span><span style=\"color: #00af00; text-decoration-color: #00af00\">1,000,000</span> (3.81 MB)\n",
              "</pre>\n"
            ],
            "text/plain": [
              "\u001b[1m Non-trainable params: \u001b[0m\u001b[38;5;34m1,000,000\u001b[0m (3.81 MB)\n"
            ]
          },
          "metadata": {},
          "output_type": "display_data"
        }
      ],
      "source": [
        "print('Building model...')\n",
        "\n",
        "# create an LSTM network with a single LSTM\n",
        "input_ = Input(shape=(MAX_SEQUENCE_LENGTH,))\n",
        "x = embedding_layer(input_)\n",
        "# x = LSTM(15, return_sequences=True)(x)\n",
        "x = Bidirectional(LSTM(15, return_sequences=True))(x)\n",
        "x = GlobalMaxPool1D()(x)\n",
        "output = Dense(1, activation=\"sigmoid\")(x)\n",
        "\n",
        "model = Model(input_, output)\n",
        "model.compile(\n",
        "  loss='binary_crossentropy',\n",
        "  optimizer='adam',\n",
        "  metrics=['accuracy']\n",
        ")\n",
        "model.summary()"
      ]
    },
    {
      "cell_type": "code",
      "execution_count": 29,
      "metadata": {
        "id": "YWiIZMhx-2_1"
      },
      "outputs": [],
      "source": [
        "X_train, X_test, y_train, y_test = train_test_split(X, y,test_size=0.20,stratify=y, random_state=0)"
      ]
    },
    {
      "cell_type": "code",
      "execution_count": 30,
      "metadata": {
        "colab": {
          "base_uri": "https://localhost:8080/",
          "height": 1000
        },
        "id": "69aTP2pi_CXc",
        "outputId": "1919e79f-a70e-469e-e716-76f042448d23"
      },
      "outputs": [
        {
          "name": "stdout",
          "output_type": "stream",
          "text": [
            "Training model...\n",
            "Epoch 1/10\n",
            "\u001b[1m898/898\u001b[0m \u001b[32m━━━━━━━━━━━━━━━━━━━━\u001b[0m\u001b[37m\u001b[0m \u001b[1m23s\u001b[0m 22ms/step - accuracy: 0.8616 - loss: 0.3577 - val_accuracy: 0.9446 - val_loss: 0.1500\n",
            "Epoch 2/10\n",
            "\u001b[1m898/898\u001b[0m \u001b[32m━━━━━━━━━━━━━━━━━━━━\u001b[0m\u001b[37m\u001b[0m \u001b[1m16s\u001b[0m 18ms/step - accuracy: 0.9495 - loss: 0.1385 - val_accuracy: 0.9601 - val_loss: 0.1077\n",
            "Epoch 3/10\n",
            "\u001b[1m898/898\u001b[0m \u001b[32m━━━━━━━━━━━━━━━━━━━━\u001b[0m\u001b[37m\u001b[0m \u001b[1m16s\u001b[0m 18ms/step - accuracy: 0.9635 - loss: 0.1011 - val_accuracy: 0.9694 - val_loss: 0.0830\n",
            "Epoch 4/10\n",
            "\u001b[1m898/898\u001b[0m \u001b[32m━━━━━━━━━━━━━━━━━━━━\u001b[0m\u001b[37m\u001b[0m \u001b[1m16s\u001b[0m 18ms/step - accuracy: 0.9751 - loss: 0.0761 - val_accuracy: 0.9722 - val_loss: 0.0754\n",
            "Epoch 5/10\n",
            "\u001b[1m898/898\u001b[0m \u001b[32m━━━━━━━━━━━━━━━━━━━━\u001b[0m\u001b[37m\u001b[0m \u001b[1m16s\u001b[0m 18ms/step - accuracy: 0.9778 - loss: 0.0646 - val_accuracy: 0.9737 - val_loss: 0.0693\n",
            "Epoch 6/10\n",
            "\u001b[1m898/898\u001b[0m \u001b[32m━━━━━━━━━━━━━━━━━━━━\u001b[0m\u001b[37m\u001b[0m \u001b[1m16s\u001b[0m 18ms/step - accuracy: 0.9807 - loss: 0.0551 - val_accuracy: 0.9769 - val_loss: 0.0600\n",
            "Epoch 7/10\n",
            "\u001b[1m898/898\u001b[0m \u001b[32m━━━━━━━━━━━━━━━━━━━━\u001b[0m\u001b[37m\u001b[0m \u001b[1m16s\u001b[0m 18ms/step - accuracy: 0.9822 - loss: 0.0493 - val_accuracy: 0.9827 - val_loss: 0.0562\n",
            "Epoch 8/10\n",
            "\u001b[1m898/898\u001b[0m \u001b[32m━━━━━━━━━━━━━━━━━━━━\u001b[0m\u001b[37m\u001b[0m \u001b[1m16s\u001b[0m 18ms/step - accuracy: 0.9860 - loss: 0.0413 - val_accuracy: 0.9832 - val_loss: 0.0503\n",
            "Epoch 9/10\n",
            "\u001b[1m898/898\u001b[0m \u001b[32m━━━━━━━━━━━━━━━━━━━━\u001b[0m\u001b[37m\u001b[0m \u001b[1m16s\u001b[0m 18ms/step - accuracy: 0.9869 - loss: 0.0376 - val_accuracy: 0.9809 - val_loss: 0.0502\n",
            "Epoch 10/10\n",
            "\u001b[1m898/898\u001b[0m \u001b[32m━━━━━━━━━━━━━━━━━━━━\u001b[0m\u001b[37m\u001b[0m \u001b[1m16s\u001b[0m 18ms/step - accuracy: 0.9901 - loss: 0.0315 - val_accuracy: 0.9794 - val_loss: 0.0593\n"
          ]
        }
      ],
      "source": [
        "print('Training model...')\n",
        "r = model.fit(\n",
        "  X_train,\n",
        "  y_train,\n",
        "  batch_size=BATCH_SIZE,\n",
        "  epochs=EPOCHS,\n",
        "  validation_split=VALIDATION_SPLIT\n",
        ")"
      ]
    },
    {
      "cell_type": "code",
      "execution_count": 31,
      "metadata": {
        "colab": {
          "base_uri": "https://localhost:8080/",
          "height": 211
        },
        "id": "j7mn3O_gCG76",
        "outputId": "e0143c80-0404-4b5b-b6e2-bd7caa813a7e"
      },
      "outputs": [
        {
          "data": {
            "image/png": "[encoded data removed]",
            "text/plain": [
              "<Figure size 1500x500 with 2 Axes>"
            ]
          },
          "metadata": {},
          "output_type": "display_data"
        }
      ],
      "source": [
        "\n",
        "acc = r.history['accuracy']\n",
        "val_acc = r.history['val_accuracy']\n",
        "loss = r.history['loss']\n",
        "val_loss = r.history['val_loss']\n",
        "epochs_range = range(1, len(r.epoch) + 1)\n",
        "\n",
        "plt.figure(figsize=(15,5))\n",
        "\n",
        "plt.subplot(1, 2, 1)\n",
        "plt.plot(epochs_range, acc, label='Train Set')\n",
        "plt.plot(epochs_range, val_acc, label='Val Set')\n",
        "plt.legend(loc=\"best\")\n",
        "plt.xlabel('Epochs')\n",
        "plt.ylabel('Accuracy')\n",
        "plt.title('LSTM Model Accuracy')\n",
        "\n",
        "plt.subplot(1, 2, 2)\n",
        "plt.plot(epochs_range, loss, label='Train Set')\n",
        "plt.plot(epochs_range, val_loss, label='Val Set')\n",
        "plt.legend(loc=\"best\")\n",
        "plt.xlabel('Epochs')\n",
        "plt.ylabel('Loss')\n",
        "plt.title('LSTM Model Loss')\n",
        "\n",
        "plt.tight_layout()\n",
        "plt.show()"
      ]
    },
    {
      "cell_type": "code",
      "execution_count": 32,
      "metadata": {
        "colab": {
          "base_uri": "https://localhost:8080/",
          "height": 430
        },
        "id": "ZYSYxUEqCQbF",
        "outputId": "ad320de0-354d-4a31-e451-c67c5514a9b1"
      },
      "outputs": [
        {
          "data": {
            "image/png": "[encoded data removed]",
            "text/plain": [
              "<Figure size 640x480 with 1 Axes>"
            ]
          },
          "metadata": {},
          "output_type": "display_data"
        }
      ],
      "source": [
        "# plot some data\n",
        "plt.plot(r.history['loss'], label='loss')\n",
        "plt.plot(r.history['val_loss'], label='val_loss')\n",
        "plt.legend()\n",
        "plt.show()"
      ]
    },
    {
      "cell_type": "code",
      "execution_count": 33,
      "metadata": {
        "colab": {
          "base_uri": "https://localhost:8080/",
          "height": 430
        },
        "id": "cemyKXuRCVfD",
        "outputId": "6c95266b-0726-4423-85c1-bdd640e0fe81"
      },
      "outputs": [
        {
          "data": {
            "image/png": "[encoded data removed]",
            "text/plain": [
              "<Figure size 640x480 with 1 Axes>"
            ]
          },
          "metadata": {},
          "output_type": "display_data"
        }
      ],
      "source": [
        "# Plotting accuracies\n",
        "plt.plot(r.history['accuracy'], label='acc')\n",
        "plt.plot(r.history['val_accuracy'], label='val_acc')\n",
        "plt.legend()\n",
        "plt.show()"
      ]
    },
    {
      "cell_type": "code",
      "execution_count": 34,
      "metadata": {
        "colab": {
          "base_uri": "https://localhost:8080/"
        },
        "id": "Mu5jcR6LCauY",
        "outputId": "d5f590dc-c4e0-46d9-b344-99654a684bfe"
      },
      "outputs": [
        {
          "name": "stdout",
          "output_type": "stream",
          "text": [
            "\u001b[1m1123/1123\u001b[0m \u001b[32m━━━━━━━━━━━━━━━━━━━━\u001b[0m\u001b[37m\u001b[0m \u001b[1m9s\u001b[0m 8ms/step - accuracy: 0.9883 - loss: 0.0320\n",
            "Accuracy of the model on Training Data is -  98.69981408119202\n",
            "\u001b[1m281/281\u001b[0m \u001b[32m━━━━━━━━━━━━━━━━━━━━\u001b[0m\u001b[37m\u001b[0m \u001b[1m2s\u001b[0m 8ms/step - accuracy: 0.9778 - loss: 0.0633\n",
            "Accuracy of the model on Testing Data is -  97.77283072471619\n"
          ]
        }
      ],
      "source": [
        "print(\"Accuracy of the model on Training Data is - \" , model.evaluate(X_train,y_train)[1]*100)\n",
        "print(\"Accuracy of the model on Testing Data is - \" , model.evaluate(X_test,y_test)[1]*100)"
      ]
    },
    {
      "cell_type": "code",
      "execution_count": 35,
      "metadata": {
        "colab": {
          "base_uri": "https://localhost:8080/"
        },
        "id": "vfXMYw4ICm4T",
        "outputId": "6e600f52-6bce-400d-c527-f6891b3a1fe7"
      },
      "outputs": [
        {
          "name": "stdout",
          "output_type": "stream",
          "text": [
            "\u001b[1m281/281\u001b[0m \u001b[32m━━━━━━━━━━━━━━━━━━━━\u001b[0m\u001b[37m\u001b[0m \u001b[1m3s\u001b[0m 8ms/step\n"
          ]
        },
        {
          "data": {
            "text/plain": [
              "array([[9.9999547e-01],\n",
              "       [3.2227521e-04],\n",
              "       [7.7355182e-01],\n",
              "       [9.9976575e-01],\n",
              "       [9.9999869e-01]], dtype=float32)"
            ]
          },
          "execution_count": 35,
          "metadata": {},
          "output_type": "execute_result"
        }
      ],
      "source": [
        "pred = model.predict(X_test)\n",
        "pred[:5]"
      ]
    },
    {
      "cell_type": "code",
      "execution_count": 36,
      "metadata": {
        "colab": {
          "base_uri": "https://localhost:8080/",
          "height": 388
        },
        "id": "iyoPY8QzCt4W",
        "outputId": "e1978914-ac7e-4580-c4c3-953319a5b28b"
      },
      "outputs": [
        {
          "data": {
            "image/png": "[encoded data removed]",
            "text/plain": [
              "<Figure size 600x400 with 2 Axes>"
            ]
          },
          "metadata": {},
          "output_type": "display_data"
        }
      ],
      "source": [
        "cm = confusion_matrix(y_test,pred.round())\n",
        "cm = pd.DataFrame(cm , index = ['TRUE','FAKE'] , columns = ['TRUE','FAKE'])\n",
        "plt.figure(figsize = (6,4))\n",
        "sns.heatmap(cm,cmap= \"Blues\", linecolor = 'black' , linewidth = 1 , annot = True, fmt='' , xticklabels = ['TRUE','FAKE'] , yticklabels = ['TRUE','FAKE'])\n",
        "plt.ylabel('Actual')\n",
        "plt.xlabel('Predicted')\n",
        "plt.show()"
      ]
    },
    {
      "cell_type": "code",
      "execution_count": 37,
      "metadata": {
        "colab": {
          "base_uri": "https://localhost:8080/"
        },
        "id": "v6K3Xk5mC2jq",
        "outputId": "e33fa52e-246e-49f6-ae00-56128b162659"
      },
      "outputs": [
        {
          "name": "stdout",
          "output_type": "stream",
          "text": [
            "              precision    recall  f1-score   support\n",
            "\n",
            "           0       0.99      0.96      0.98      4284\n",
            "           1       0.97      0.99      0.98      4696\n",
            "\n",
            "    accuracy                           0.98      8980\n",
            "   macro avg       0.98      0.98      0.98      8980\n",
            "weighted avg       0.98      0.98      0.98      8980\n",
            "\n"
          ]
        }
      ],
      "source": [
        "print(classification_report(y_test,pred.round()))"
      ]
    },
    {
      "cell_type": "code",
      "execution_count": 38,
      "metadata": {
        "colab": {
          "base_uri": "https://localhost:8080/"
        },
        "id": "QoBdDH5cDB3F",
        "outputId": "b0d0aef6-27a5-4ba5-d39f-32512900d51d"
      },
      "outputs": [
        {
          "name": "stdout",
          "output_type": "stream",
          "text": [
            "\u001b[1m281/281\u001b[0m \u001b[32m━━━━━━━━━━━━━━━━━━━━\u001b[0m\u001b[37m\u001b[0m \u001b[1m2s\u001b[0m 8ms/step\n"
          ]
        }
      ],
      "source": [
        "y_pred = model.predict(X_test).ravel()"
      ]
    },
    {
      "cell_type": "code",
      "execution_count": 39,
      "metadata": {
        "colab": {
          "base_uri": "https://localhost:8080/",
          "height": 453
        },
        "id": "lRFPZo_3DKVU",
        "outputId": "553ffde8-3c85-48b4-ca2d-40b642eaa34e"
      },
      "outputs": [
        {
          "data": {
            "image/png": "[encoded data removed]",
            "text/plain": [
              "<Figure size 1200x800 with 1 Axes>"
            ]
          },
          "metadata": {},
          "output_type": "display_data"
        }
      ],
      "source": [
        "def roc_auc_plot(y_true, y_proba, label=' ', l='-', lw=1.0):\n",
        "    from sklearn.metrics import roc_curve, roc_auc_score\n",
        "    fpr, tpr, _ = roc_curve(y_true, y_proba)\n",
        "    ax.plot(fpr, tpr, linestyle=l, linewidth=lw,\n",
        "            label=\"%s (area=%.3f)\"%(label,roc_auc_score(y_true, y_proba)))\n",
        "\n",
        "f, ax = plt.subplots(figsize=(12,8))\n",
        "\n",
        "roc_auc_plot(y_test,y_pred,label='LSTM', l='-')\n",
        "\n",
        "\n",
        "\n",
        "ax.plot([0,1], [0,1], color='k', linewidth=0.8, linestyle='--',\n",
        "        )\n",
        "ax.legend(loc=\"lower right\")\n",
        "ax.set_xlabel('False Positive Rate')\n",
        "ax.set_ylabel('True Positive Rate')\n",
        "ax.set_xlim([0, 1])\n",
        "ax.set_ylim([0, 1])\n",
        "ax.set_title('Receiver Operator Characteristic curves')\n",
        "sns.despine()"
      ]
    },
    {
      "cell_type": "code",
      "execution_count": 40,
      "metadata": {
        "id": "GIqF4trBDVzB"
      },
      "outputs": [],
      "source": [
        "testSent =[\"Trey Gowdy destroys this clueless DHS employee when asking about the due process of getting on the terror watch list. Her response is priceless:  I m sorry, um, there s not a process afforded the citizen prior to getting on the list.  \",\n",
        "       \"Poland s new prime minister faces a difficult balancing act trying to repair bruised relations with the European Union without alienating the eurosceptic government s core voters. A Western-educated former banker who is fluent in German and English and was sworn in on Monday, Mateusz Morawiecki boasts the credentials needed to negotiate with Brussels. But any compromises to improve relations with Brussels, which sees the ruling Law and Justice (PiS) party as a threat to democracy, would risk upsetting the traditional, Catholic supporters who propelled it into power two years ago. It is a gamble that could backfire, and it is not yet clear how far Morawiecki, 49, and his party, dominated by former Prime Minister Jaroslaw Kaczynski, are ready to go to please Brussels.   The idea to build up international credibility seems rational,  said Jaroslaw Flis, a sociologist at the Jagiellonian University.  But such actions would have to be in complete contrast with what Mateusz Morawiecki would have to do domestically to prevent the PiS from falling apart.  The PiS government has alienated many people at home and abroad with its nationalist rhetoric and changes to state institutions which the EU says subvert the bloc s laws. The European Commission, the EU executive, opened an inquiry into the rule of law in Poland in January 2016 and the European Parliament has started a process that could deprive Poland of its voting rights in the 28-nation bloc. Any hope in Brussels that Morawiecki s appointment signals a change of course by PiS will have been tempered by Polish parliament approving legal changes to the judiciary in defiance of the EU on Friday - the day after his nomination. The changes give parliament, where PiS has a majority, de facto control over the selection of judges. EU leaders looking for clues about Morawiecki s plans will also have taken little comfort from comments he has made since being nominated, making clear he backs a tough line on the EU and believes in PiS s traditional vision of the Polish state.   We want to transform Europe, this is my dream, to re-christianise it,  Morawiecki told the Catholic Radio Maryja broadcaster.  We want Poland to be strong, but also to contain ... Christian values. We will defend them against the background of laicisation and a deepening consumerism.  Asked by the radio interviewer about demands by French President Emmanuel Macron for Poland to face sanctions over a subversion of democratic rules, Morawiecki said he would not  bow down to blackmail.  In comments to parliament on Tuesday, Morawiecki suggested Poland might relent in a conflict with Brussels over logging in an ancient forest, which an EU court has said contravenes EU laws. But he said Poland s national interests came first in any debate over the future of the EU and that he  wholeheartedly  supported PiS s overhaul of the judiciary. Like Beata Szydlo, whom he replaced as prime minister, Morawiecki is likely to have to defer to PiS leader and co-founder Jaroslaw Kaczynski. Prime minister from July 2006 to November 2007, Kaczynski is widely seen as the power behind the party and Poland s main decision-maker. How much scope that will leave Morawiecki to carve out his own path remains to be seen. Former Polish President Lech Walesa, a PiS critic, has suggested that nothing of substance will change.  The circus has stayed the same, only the clowns have changed their roles,  Walesa, who led the Solidarity trade union movement that ended communist rule, said on Twitter.  The appointment of Morawiecki, whose father founded and led a radical offshoot of Solidarity in the 1980s, appears designed in part to present a new face of Poland to the EU. Szydlo, 54, at times responded angrily to EU criticism and relations with the bloc soured under her government. Underlining PiS opposition to Muslim immigration, she said last month Poland wanted to be sure Christian traditions were not subject to  ideological censorship  in the EU. Along with Hungary, Poland has refused to take in any of its quota of the wave of refugees from Syria and elsewhere who have come to Europe since 2015, on the grounds that Muslim immigrants are a threat to national security and stability.         Such comments appeal to core PiS voters, and Szydlo s government, which promised generous welfare payouts and a dedication to traditional Catholic values, was one of Poland s most popular since communist rule ended in 1989. A relative newcomer to politics, Morawiecki lacks Szydlo s broad appeal. But he has overseen significant economic achievements since becoming finance minister in 2016, a position he has retained in the new government. Tusk has welcomed what he sees as signs that Morawiecki is a liberal economist who wants better ties with the EU.  There is no doubt that (Morawiecki s) liberal bias and some pro-western gestures could be a sign that there is a lurking desire to improve relations,  Tusk said last week. But an economic stimulus plan Morawiecki unveiled in 2016 has been criticized by economists who say it depends heavily on private investment, which is low in Poland despite fast economic growth.  What Morawiecki sees as a solution, meaning more political influence in the economy, is actually dangerous,  said Leszek Balcerowicz, a former finance minister who coordinated the transition to a market economy after decades of communist rule. Any hint of protectionism is also likely to worry EU leaders, who seek to break down trade barriers.  Morawiecki has called the privatization of state-owned companies a tragedy and said he will give more power to domestic capital at the expense of foreign investors. In his comments to parliament on Tuesday, he said economic policy should not change.  \",\n",
        "      ]"
      ]
    },
    {
      "cell_type": "code",
      "execution_count": 41,
      "metadata": {
        "id": "fYTTewseDXCU"
      },
      "outputs": [],
      "source": [
        "\n",
        "def cleanText(txt):\n",
        "    txt = txt.lower()\n",
        "    txt = ' '.join([word for word in txt.split() if word not in (stop)])\n",
        "    txt = re.sub('[^a-z]',' ',txt)\n",
        "    return txt"
      ]
    },
    {
      "cell_type": "code",
      "execution_count": 42,
      "metadata": {
        "id": "4rER7QVxDa9k"
      },
      "outputs": [],
      "source": [
        "def predict_text(lst_text):\n",
        "    test = tokenizer.texts_to_sequences(lst_text)\n",
        "    # pad sequences so that we get a N x T matrix\n",
        "    testX = pad_sequences(test, maxlen=MAX_SEQUENCE_LENGTH)\n",
        "    df_test = pd.DataFrame(lst_text, columns = ['test_sent'])\n",
        "\n",
        "    prediction = model.predict(testX)\n",
        "    df_test['prediction']=prediction\n",
        "    df_test[\"test_sent\"] = df_test[\"test_sent\"].apply(cleanText)\n",
        "    df_test['prediction']=df_test['prediction'].apply(lambda x: \"Fake\" if x>=0.5 else \"Real\")\n",
        "    return df_test"
      ]
    },
    {
      "cell_type": "code",
      "execution_count": 43,
      "metadata": {
        "colab": {
          "base_uri": "https://localhost:8080/",
          "height": 142
        },
        "id": "DOveVXWSDfyZ",
        "outputId": "aa1247e4-1cea-436c-f08b-3f968a125036"
      },
      "outputs": [
        {
          "name": "stdout",
          "output_type": "stream",
          "text": [
            "\u001b[1m1/1\u001b[0m \u001b[32m━━━━━━━━━━━━━━━━━━━━\u001b[0m\u001b[37m\u001b[0m \u001b[1m0s\u001b[0m 54ms/step\n"
          ]
        },
        {
          "data": {
            "text/html": [
              "<div>\n",
              "<style scoped>\n",
              "    .dataframe tbody tr th:only-of-type {\n",
              "        vertical-align: middle;\n",
              "    }\n",
              "\n",
              "    .dataframe tbody tr th {\n",
              "        vertical-align: top;\n",
              "    }\n",
              "\n",
              "    .dataframe thead th {\n",
              "        text-align: right;\n",
              "    }\n",
              "</style>\n",
              "<table border=\"1\" class=\"dataframe\">\n",
              "  <thead>\n",
              "    <tr style=\"text-align: right;\">\n",
              "      <th></th>\n",
              "      <th>test_sent</th>\n",
              "      <th>prediction</th>\n",
              "    </tr>\n",
              "  </thead>\n",
              "  <tbody>\n",
              "    <tr>\n",
              "      <th>0</th>\n",
              "      <td>trey gowdy destroys clueless dhs employee aski...</td>\n",
              "      <td>Fake</td>\n",
              "    </tr>\n",
              "    <tr>\n",
              "      <th>1</th>\n",
              "      <td>poland new prime minister faces difficult bala...</td>\n",
              "      <td>Real</td>\n",
              "    </tr>\n",
              "  </tbody>\n",
              "</table>\n",
              "</div>"
            ],
            "text/plain": [
              "                                           test_sent prediction\n",
              "0  trey gowdy destroys clueless dhs employee aski...       Fake\n",
              "1  poland new prime minister faces difficult bala...       Real"
            ]
          },
          "execution_count": 43,
          "metadata": {},
          "output_type": "execute_result"
        }
      ],
      "source": [
        "df_testsent = predict_text(testSent)\n",
        "df_testsent"
      ]
    }
  ],
  "metadata": {
    "colab": {
      "provenance": []
    },
    "kernelspec": {
      "display_name": "Python 3",
      "name": "python3"
    },
    "language_info": {
      "codemirror_mode": {
        "name": "ipython",
        "version": 3
      },
      "file_extension": ".py",
      "mimetype": "text/x-python",
      "name": "python",
      "nbconvert_exporter": "python",
      "pygments_lexer": "ipython3",
      "version": "3.10.0"
    }
  },
  "nbformat": 4,
  "nbformat_minor": 0
}
